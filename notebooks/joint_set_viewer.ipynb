{
 "cells": [
  {
   "cell_type": "markdown",
   "id": "1ffef8ce",
   "metadata": {},
   "source": [
    "# Joint Viewer\n",
    "Visualize the ground truth joint"
   ]
  },
  {
   "cell_type": "code",
   "execution_count": 1,
   "id": "09471a9d",
   "metadata": {},
   "outputs": [
    {
     "name": "stderr",
     "output_type": "stream",
     "text": [
      "d:\\anaconda3\\envs\\joinable\\lib\\site-packages\\pytorch_lightning\\metrics\\__init__.py:44: LightningDeprecationWarning: `pytorch_lightning.metrics.*` module has been renamed to `torchmetrics.*` and split off to its own package (https://github.com/PyTorchLightning/metrics) since v1.3 and will be removed in v1.5\n",
      "  \"`pytorch_lightning.metrics.*` module has been renamed to `torchmetrics.*` and split off to its own package\"\n"
     ]
    }
   ],
   "source": [
    "import sys\n",
    "import json\n",
    "from pathlib import Path\n",
    "import numpy as np\n",
    "import meshplot as mp\n",
    "\n",
    "root_dir = Path().resolve().parent\n",
    "if str(root_dir) not in sys.path:\n",
    "    sys.path.append(str(root_dir))\n",
    "\n",
    "from joint.joint_set import JointSet"
   ]
  },
  {
   "cell_type": "markdown",
   "id": "089df8ec",
   "metadata": {},
   "source": [
    "## Load the Data\n",
    "Set the path to the joint set file and create an instance of the JointSet class\n",
    "We assume that the mesh files referenced from the joint file are in the same directory"
   ]
  },
  {
   "cell_type": "code",
   "execution_count": 4,
   "id": "8a131f13",
   "metadata": {},
   "outputs": [],
   "source": [
    "# Change to point to a file in the Fusion 360 Gallery joint dataset\n",
    "data_dir = root_dir / \"data/tester\"\n",
    "joint_file = data_dir / \"joint_set_12978.json\"\n",
    "js = JointSet(joint_file)"
   ]
  },
  {
   "cell_type": "markdown",
   "id": "48b96933",
   "metadata": {},
   "source": [
    "## Display the Joint\n",
    "Show both bodies from the given joint in the aligned joint position.\n",
    "Get the combined vertices, triangle indices, per triangle colors, and line arrays to plot the joint with meshplot.\n",
    "Each body is given a different color. The faces and edges selected by the user to set up the joint are shown in red, and the entities that align to the same axis are shown in yellow."
   ]
  },
  {
   "cell_type": "code",
   "execution_count": 5,
   "id": "a0fed614",
   "metadata": {},
   "outputs": [
    {
     "data": {
      "application/vnd.jupyter.widget-view+json": {
       "model_id": "f2ffd3d376a5465dae2053924e76166f",
       "version_major": 2,
       "version_minor": 0
      },
      "text/plain": [
       "Renderer(camera=PerspectiveCamera(children=(DirectionalLight(color='white', intensity=0.6, position=(0.0, 29.0…"
      ]
     },
     "metadata": {},
     "output_type": "display_data"
    }
   ],
   "source": [
    "v, f, c, e = js.get_meshes(\n",
    "    joint_index=0,\n",
    "    show_joint_entity_colors=False,\n",
    "    show_joint_equivalent_colors=False,\n",
    ")\n",
    "p = mp.plot(v, f, c=c);\n",
    "if e is not None:\n",
    "    # Joint Entities\n",
    "    if e[0] is not None:\n",
    "        p.add_edges(v, e[0], shading={\"line_color\": \"red\"})\n",
    "    # Joint Equivalents\n",
    "    if e[1] is not None:\n",
    "        p.add_edges(v, e[1], shading={\"line_color\": \"yellow\"})"
   ]
  },
  {
   "cell_type": "markdown",
   "id": "964d0b0c",
   "metadata": {},
   "source": [
    "## Display Single Bodies\n",
    "Display the individual mesh for a single body in it's local coordinate system. The faces and edges selected by the user to set up the joint are shown in red, and the entities that align to the same axis are shown in yellow."
   ]
  },
  {
   "cell_type": "code",
   "execution_count": 6,
   "id": "6ae27718",
   "metadata": {},
   "outputs": [
    {
     "data": {
      "application/vnd.jupyter.widget-view+json": {
       "model_id": "9089236ca3de40579b7b8b7d8444ca32",
       "version_major": 2,
       "version_minor": 0
      },
      "text/plain": [
       "Renderer(camera=PerspectiveCamera(children=(DirectionalLight(color='white', intensity=0.6, position=(-2.268656…"
      ]
     },
     "metadata": {},
     "output_type": "display_data"
    }
   ],
   "source": [
    "body = 1\n",
    "v, f, c, e = js.get_mesh(body=body, joint_index=0)\n",
    "p = mp.plot(v, f, c=c)\n",
    "# Get the B-Rep edges and draw them\n",
    "brep_edges = js.get_edge_indices(body=body)\n",
    "p.add_edges(v, brep_edges);\n",
    "# Draw the edge entities\n",
    "if e is not None:\n",
    "    # Joint Entities\n",
    "    if e[0] is not None:\n",
    "        p.add_edges(v, e[0], shading={\"line_color\": \"red\"})\n",
    "    # Joint Equivalents\n",
    "    if e[1] is not None:\n",
    "        p.add_edges(v, e[1], shading={\"line_color\": \"yellow\"})"
   ]
  },
  {
   "cell_type": "code",
   "execution_count": 7,
   "id": "599bf405",
   "metadata": {},
   "outputs": [
    {
     "data": {
      "application/vnd.jupyter.widget-view+json": {
       "model_id": "0c1bf64481c545ff88b34285dd0794f6",
       "version_major": 2,
       "version_minor": 0
      },
      "text/plain": [
       "Renderer(camera=PerspectiveCamera(children=(DirectionalLight(color='white', intensity=0.6, position=(0.0, 29.7…"
      ]
     },
     "metadata": {},
     "output_type": "display_data"
    }
   ],
   "source": [
    "body = 2\n",
    "v, f, c, e = js.get_mesh(body=body, joint_index=0)\n",
    "p = mp.plot(v, f, c=c)\n",
    "# Get the B-Rep edges and draw them\n",
    "brep_edges = js.get_edge_indices(body=body)\n",
    "p.add_edges(v, brep_edges);\n",
    "# Draw the edge entities\n",
    "if e is not None:\n",
    "    # Joint Entities\n",
    "    if e[0] is not None:\n",
    "        p.add_edges(v, e[0], shading={\"line_color\": \"red\"})\n",
    "    # Joint Equivalents\n",
    "    if e[1] is not None:\n",
    "        p.add_edges(v, e[1], shading={\"line_color\": \"yellow\"})"
   ]
  },
  {
   "cell_type": "markdown",
   "id": "e896c098",
   "metadata": {},
   "source": [
    "## Visualize the Joint Axis\n",
    "Show the joint axis that the body is constrained to"
   ]
  },
  {
   "cell_type": "code",
   "execution_count": 8,
   "id": "2f7bc149",
   "metadata": {},
   "outputs": [
    {
     "data": {
      "application/vnd.jupyter.widget-view+json": {
       "model_id": "6574910f73f54fbc855dc95255c2df49",
       "version_major": 2,
       "version_minor": 0
      },
      "text/plain": [
       "Renderer(camera=PerspectiveCamera(children=(DirectionalLight(color='white', intensity=0.6, position=(-2.268656…"
      ]
     },
     "metadata": {},
     "output_type": "display_data"
    }
   ],
   "source": [
    "body = 1\n",
    "v, f, c, e = js.get_mesh(body=body, show_joint_equivalent_colors=False)\n",
    "p = mp.plot(v, f, c=c);\n",
    "if e is not None:\n",
    "    # Joint Entities\n",
    "    if e[0] is not None:\n",
    "        p.add_edges(v, e[0], shading={\"line_color\": \"red\"})\n",
    "    # Joint Equivalents\n",
    "    if e[1] is not None:\n",
    "        p.add_edges(v, e[1], shading={\"line_color\": \"yellow\"})\n",
    "\n",
    "# Get the joint axis line and draw it\n",
    "start_pt, end_pt = js.get_joint_axis_line(body=body)\n",
    "p.add_lines(start_pt, end_pt, shading={\"line_color\": \"green\"});\n",
    "p.add_points(start_pt, shading={\"point_color\": \"green\", \"point_size\": 1});\n"
   ]
  },
  {
   "cell_type": "code",
   "execution_count": 9,
   "id": "5fe5567c",
   "metadata": {},
   "outputs": [
    {
     "data": {
      "application/vnd.jupyter.widget-view+json": {
       "model_id": "a766d0402102463da8efc39205245914",
       "version_major": 2,
       "version_minor": 0
      },
      "text/plain": [
       "Renderer(camera=PerspectiveCamera(children=(DirectionalLight(color='white', intensity=0.6, position=(0.0, 29.7…"
      ]
     },
     "metadata": {},
     "output_type": "display_data"
    }
   ],
   "source": [
    "body = 2\n",
    "v, f, c, e = js.get_mesh(body=body, show_joint_equivalent_colors=False)\n",
    "p = mp.plot(v, f, c=c);\n",
    "if e is not None:\n",
    "    # Joint Entities\n",
    "    if e[0] is not None:\n",
    "        p.add_edges(v, e[0], shading={\"line_color\": \"red\"})\n",
    "    # Joint Equivalents\n",
    "    if e[1] is not None:\n",
    "        p.add_edges(v, e[1], shading={\"line_color\": \"yellow\"})\n",
    "\n",
    "# Get the joint axis line and draw it\n",
    "start_pt, end_pt = js.get_joint_axis_line(body=body)\n",
    "p.add_lines(start_pt, end_pt, shading={\"line_color\": \"green\"});\n",
    "p.add_points(start_pt, shading={\"point_color\": \"green\", \"point_size\": 1});"
   ]
  }
 ],
 "metadata": {
  "interpreter": {
   "hash": "bd233d35984c509e34d87a6c4917af9a54942a0c7c6963e05834a165480a06dc"
  },
  "kernelspec": {
   "display_name": "Python 3 (ipykernel)",
   "language": "python",
   "name": "python3"
  },
  "language_info": {
   "codemirror_mode": {
    "name": "ipython",
    "version": 3
   },
   "file_extension": ".py",
   "mimetype": "text/x-python",
   "name": "python",
   "nbconvert_exporter": "python",
   "pygments_lexer": "ipython3",
   "version": "3.7.16"
  }
 },
 "nbformat": 4,
 "nbformat_minor": 5
}
