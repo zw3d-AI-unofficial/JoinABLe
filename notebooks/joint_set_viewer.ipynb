{
 "cells": [
  {
   "cell_type": "markdown",
   "id": "1ffef8ce",
   "metadata": {},
   "source": [
    "# Joint Viewer\n",
    "Visualize the ground truth joint"
   ]
  },
  {
   "cell_type": "code",
   "execution_count": 1,
   "id": "09471a9d",
   "metadata": {},
   "outputs": [
    {
     "name": "stderr",
     "output_type": "stream",
     "text": [
      "/home/fusiqiao/mambaforge-pypy3/envs/joinable_env/lib/python3.7/site-packages/pytorch_lightning/metrics/__init__.py:44: LightningDeprecationWarning: `pytorch_lightning.metrics.*` module has been renamed to `torchmetrics.*` and split off to its own package (https://github.com/PyTorchLightning/metrics) since v1.3 and will be removed in v1.5\n",
      "  \"`pytorch_lightning.metrics.*` module has been renamed to `torchmetrics.*` and split off to its own package\"\n"
     ]
    }
   ],
   "source": [
    "import sys\n",
    "import json\n",
    "from pathlib import Path\n",
    "import numpy as np\n",
    "import meshplot as mp\n",
    "\n",
    "root_dir = Path().resolve().parent\n",
    "if str(root_dir) not in sys.path:\n",
    "    sys.path.append(str(root_dir))\n",
    "\n",
    "from joint.joint_set import JointSet"
   ]
  },
  {
   "cell_type": "markdown",
   "id": "089df8ec",
   "metadata": {},
   "source": [
    "## Load the Data\n",
    "Set the path to the joint set file and create an instance of the JointSet class\n",
    "We assume that the mesh files referenced from the joint file are in the same directory"
   ]
  },
  {
   "cell_type": "code",
   "execution_count": 7,
   "id": "8a131f13",
   "metadata": {},
   "outputs": [],
   "source": [
    "# Change to point to a file in the Fusion 360 Gallery joint dataset\n",
    "data_dir = root_dir / \"data/zw3d-joinable-dataset\"\n",
    "joint_file = data_dir / \"joint_set_03234.json\"\n",
    "js = JointSet(joint_file)"
   ]
  },
  {
   "cell_type": "markdown",
   "id": "48b96933",
   "metadata": {},
   "source": [
    "## Display the Joint\n",
    "Show both bodies from the given joint in the aligned joint position.\n",
    "Get the combined vertices, triangle indices, per triangle colors, and line arrays to plot the joint with meshplot.\n",
    "Each body is given a different color. The faces and edges selected by the user to set up the joint are shown in red, and the entities that align to the same axis are shown in yellow."
   ]
  },
  {
   "cell_type": "code",
   "execution_count": 8,
   "id": "a0fed614",
   "metadata": {},
   "outputs": [
    {
     "data": {
      "application/vnd.jupyter.widget-view+json": {
       "model_id": "131dee7967fa4f4ab0cccdd52d60a2e2",
       "version_major": 2,
       "version_minor": 0
      },
      "text/plain": [
       "Renderer(camera=PerspectiveCamera(children=(DirectionalLight(color='white', intensity=0.6, position=(-13.32500…"
      ]
     },
     "metadata": {},
     "output_type": "display_data"
    }
   ],
   "source": [
    "v, f, c, e = js.get_meshes(\n",
    "    joint_index=0,\n",
    "    show_joint_entity_colors=True,\n",
    "    show_joint_equivalent_colors=True,\n",
    ")\n",
    "p = mp.plot(v, f, c=c);\n",
    "if e is not None:\n",
    "    # Joint Entities\n",
    "    if e[0] is not None:\n",
    "        p.add_edges(v, e[0], shading={\"line_color\": \"red\"})\n",
    "    # Joint Equivalents\n",
    "    if e[1] is not None:\n",
    "        p.add_edges(v, e[1], shading={\"line_color\": \"yellow\"})"
   ]
  },
  {
   "cell_type": "markdown",
   "id": "964d0b0c",
   "metadata": {},
   "source": [
    "## Display Single Bodies\n",
    "Display the individual mesh for a single body in it's local coordinate system. The faces and edges selected by the user to set up the joint are shown in red, and the entities that align to the same axis are shown in yellow."
   ]
  },
  {
   "cell_type": "code",
   "execution_count": 9,
   "id": "6ae27718",
   "metadata": {},
   "outputs": [
    {
     "data": {
      "application/vnd.jupyter.widget-view+json": {
       "model_id": "548f00d7f78a4a8d8bd2287e0378d38e",
       "version_major": 2,
       "version_minor": 0
      },
      "text/plain": [
       "Renderer(camera=PerspectiveCamera(children=(DirectionalLight(color='white', intensity=0.6, position=(-13.32500…"
      ]
     },
     "metadata": {},
     "output_type": "display_data"
    },
    {
     "ename": "ValueError",
     "evalue": "need at least one array to concatenate",
     "output_type": "error",
     "traceback": [
      "\u001b[0;31m---------------------------------------------------------------------------\u001b[0m",
      "\u001b[0;31mValueError\u001b[0m                                Traceback (most recent call last)",
      "\u001b[0;32m/tmp/ipykernel_119439/402206130.py\u001b[0m in \u001b[0;36m<module>\u001b[0;34m\u001b[0m\n\u001b[1;32m      3\u001b[0m \u001b[0mp\u001b[0m \u001b[0;34m=\u001b[0m \u001b[0mmp\u001b[0m\u001b[0;34m.\u001b[0m\u001b[0mplot\u001b[0m\u001b[0;34m(\u001b[0m\u001b[0mv\u001b[0m\u001b[0;34m,\u001b[0m \u001b[0mf\u001b[0m\u001b[0;34m,\u001b[0m \u001b[0mc\u001b[0m\u001b[0;34m=\u001b[0m\u001b[0mc\u001b[0m\u001b[0;34m)\u001b[0m\u001b[0;34m\u001b[0m\u001b[0;34m\u001b[0m\u001b[0m\n\u001b[1;32m      4\u001b[0m \u001b[0;31m# Get the B-Rep edges and draw them\u001b[0m\u001b[0;34m\u001b[0m\u001b[0;34m\u001b[0m\u001b[0;34m\u001b[0m\u001b[0m\n\u001b[0;32m----> 5\u001b[0;31m \u001b[0mbrep_edges\u001b[0m \u001b[0;34m=\u001b[0m \u001b[0mjs\u001b[0m\u001b[0;34m.\u001b[0m\u001b[0mget_edge_indices\u001b[0m\u001b[0;34m(\u001b[0m\u001b[0mbody\u001b[0m\u001b[0;34m=\u001b[0m\u001b[0mbody\u001b[0m\u001b[0;34m)\u001b[0m\u001b[0;34m\u001b[0m\u001b[0;34m\u001b[0m\u001b[0m\n\u001b[0m\u001b[1;32m      6\u001b[0m \u001b[0mp\u001b[0m\u001b[0;34m.\u001b[0m\u001b[0madd_edges\u001b[0m\u001b[0;34m(\u001b[0m\u001b[0mv\u001b[0m\u001b[0;34m,\u001b[0m \u001b[0mbrep_edges\u001b[0m\u001b[0;34m)\u001b[0m\u001b[0;34m;\u001b[0m\u001b[0;34m\u001b[0m\u001b[0;34m\u001b[0m\u001b[0m\n\u001b[1;32m      7\u001b[0m \u001b[0;31m# Draw the edge entities\u001b[0m\u001b[0;34m\u001b[0m\u001b[0;34m\u001b[0m\u001b[0;34m\u001b[0m\u001b[0m\n",
      "\u001b[0;32m~/Code/JoinABLe/joint/joint_set.py\u001b[0m in \u001b[0;36mget_edge_indices\u001b[0;34m(self, body)\u001b[0m\n\u001b[1;32m    364\u001b[0m         \u001b[0;32melif\u001b[0m \u001b[0mbody\u001b[0m \u001b[0;34m==\u001b[0m \u001b[0;36m2\u001b[0m\u001b[0;34m:\u001b[0m\u001b[0;34m\u001b[0m\u001b[0;34m\u001b[0m\u001b[0m\n\u001b[1;32m    365\u001b[0m             \u001b[0msolid\u001b[0m \u001b[0;34m=\u001b[0m \u001b[0mself\u001b[0m\u001b[0;34m.\u001b[0m\u001b[0mbody_two\u001b[0m\u001b[0;34m\u001b[0m\u001b[0;34m\u001b[0m\u001b[0m\n\u001b[0;32m--> 366\u001b[0;31m         \u001b[0;32mreturn\u001b[0m \u001b[0msolid\u001b[0m\u001b[0;34m.\u001b[0m\u001b[0mget_polylines\u001b[0m\u001b[0;34m(\u001b[0m\u001b[0;34m)\u001b[0m\u001b[0;34m\u001b[0m\u001b[0;34m\u001b[0m\u001b[0m\n\u001b[0m\u001b[1;32m    367\u001b[0m \u001b[0;34m\u001b[0m\u001b[0m\n\u001b[1;32m    368\u001b[0m     \u001b[0;32mdef\u001b[0m \u001b[0mload_obj\u001b[0m\u001b[0;34m(\u001b[0m\u001b[0mself\u001b[0m\u001b[0;34m,\u001b[0m \u001b[0mobj_file\u001b[0m\u001b[0;34m)\u001b[0m\u001b[0;34m:\u001b[0m\u001b[0;34m\u001b[0m\u001b[0;34m\u001b[0m\u001b[0m\n",
      "\u001b[0;32m~/Code/JoinABLe/geometry/brep.py\u001b[0m in \u001b[0;36mget_polylines\u001b[0;34m(self)\u001b[0m\n\u001b[1;32m    142\u001b[0m             \u001b[0mrepeat_indices\u001b[0m \u001b[0;34m=\u001b[0m \u001b[0mnp\u001b[0m\u001b[0;34m.\u001b[0m\u001b[0mrepeat\u001b[0m\u001b[0;34m(\u001b[0m\u001b[0mline_indices\u001b[0m\u001b[0;34m,\u001b[0m \u001b[0;36m2\u001b[0m\u001b[0;34m)\u001b[0m\u001b[0;34m[\u001b[0m\u001b[0;36m1\u001b[0m\u001b[0;34m:\u001b[0m\u001b[0;34m-\u001b[0m\u001b[0;36m1\u001b[0m\u001b[0;34m]\u001b[0m\u001b[0;34m\u001b[0m\u001b[0;34m\u001b[0m\u001b[0m\n\u001b[1;32m    143\u001b[0m             \u001b[0mlines\u001b[0m\u001b[0;34m.\u001b[0m\u001b[0mappend\u001b[0m\u001b[0;34m(\u001b[0m\u001b[0mrepeat_indices\u001b[0m\u001b[0;34m)\u001b[0m\u001b[0;34m\u001b[0m\u001b[0;34m\u001b[0m\u001b[0m\n\u001b[0;32m--> 144\u001b[0;31m         \u001b[0mstacked_indices\u001b[0m \u001b[0;34m=\u001b[0m \u001b[0mnp\u001b[0m\u001b[0;34m.\u001b[0m\u001b[0mhstack\u001b[0m\u001b[0;34m(\u001b[0m\u001b[0mlines\u001b[0m\u001b[0;34m)\u001b[0m\u001b[0;34m\u001b[0m\u001b[0;34m\u001b[0m\u001b[0m\n\u001b[0m\u001b[1;32m    145\u001b[0m         \u001b[0mreshape_indices\u001b[0m \u001b[0;34m=\u001b[0m \u001b[0mnp\u001b[0m\u001b[0;34m.\u001b[0m\u001b[0mreshape\u001b[0m\u001b[0;34m(\u001b[0m\u001b[0mstacked_indices\u001b[0m\u001b[0;34m,\u001b[0m \u001b[0;34m(\u001b[0m\u001b[0;34m-\u001b[0m\u001b[0;36m1\u001b[0m\u001b[0;34m,\u001b[0m \u001b[0;36m2\u001b[0m\u001b[0;34m)\u001b[0m\u001b[0;34m)\u001b[0m\u001b[0;34m\u001b[0m\u001b[0;34m\u001b[0m\u001b[0m\n\u001b[1;32m    146\u001b[0m         \u001b[0;32mreturn\u001b[0m \u001b[0mreshape_indices\u001b[0m\u001b[0;34m\u001b[0m\u001b[0;34m\u001b[0m\u001b[0m\n",
      "\u001b[0;32m<__array_function__ internals>\u001b[0m in \u001b[0;36mhstack\u001b[0;34m(*args, **kwargs)\u001b[0m\n",
      "\u001b[0;32m~/mambaforge-pypy3/envs/joinable_env/lib/python3.7/site-packages/numpy/core/shape_base.py\u001b[0m in \u001b[0;36mhstack\u001b[0;34m(tup)\u001b[0m\n\u001b[1;32m    343\u001b[0m         \u001b[0;32mreturn\u001b[0m \u001b[0m_nx\u001b[0m\u001b[0;34m.\u001b[0m\u001b[0mconcatenate\u001b[0m\u001b[0;34m(\u001b[0m\u001b[0marrs\u001b[0m\u001b[0;34m,\u001b[0m \u001b[0;36m0\u001b[0m\u001b[0;34m)\u001b[0m\u001b[0;34m\u001b[0m\u001b[0;34m\u001b[0m\u001b[0m\n\u001b[1;32m    344\u001b[0m     \u001b[0;32melse\u001b[0m\u001b[0;34m:\u001b[0m\u001b[0;34m\u001b[0m\u001b[0;34m\u001b[0m\u001b[0m\n\u001b[0;32m--> 345\u001b[0;31m         \u001b[0;32mreturn\u001b[0m \u001b[0m_nx\u001b[0m\u001b[0;34m.\u001b[0m\u001b[0mconcatenate\u001b[0m\u001b[0;34m(\u001b[0m\u001b[0marrs\u001b[0m\u001b[0;34m,\u001b[0m \u001b[0;36m1\u001b[0m\u001b[0;34m)\u001b[0m\u001b[0;34m\u001b[0m\u001b[0;34m\u001b[0m\u001b[0m\n\u001b[0m\u001b[1;32m    346\u001b[0m \u001b[0;34m\u001b[0m\u001b[0m\n\u001b[1;32m    347\u001b[0m \u001b[0;34m\u001b[0m\u001b[0m\n",
      "\u001b[0;32m<__array_function__ internals>\u001b[0m in \u001b[0;36mconcatenate\u001b[0;34m(*args, **kwargs)\u001b[0m\n",
      "\u001b[0;31mValueError\u001b[0m: need at least one array to concatenate"
     ]
    }
   ],
   "source": [
    "body = 1\n",
    "v, f, c, e = js.get_mesh(body=body, joint_index=0)\n",
    "p = mp.plot(v, f, c=c)\n",
    "# Get the B-Rep edges and draw them\n",
    "brep_edges = js.get_edge_indices(body=body)\n",
    "p.add_edges(v, brep_edges);\n",
    "# Draw the edge entities\n",
    "if e is not None:\n",
    "    # Joint Entities\n",
    "    if e[0] is not None:\n",
    "        p.add_edges(v, e[0], shading={\"line_color\": \"red\"})\n",
    "    # Joint Equivalents\n",
    "    if e[1] is not None:\n",
    "        p.add_edges(v, e[1], shading={\"line_color\": \"yellow\"})"
   ]
  },
  {
   "cell_type": "code",
   "execution_count": null,
   "id": "599bf405",
   "metadata": {},
   "outputs": [],
   "source": [
    "body = 2\n",
    "v, f, c, e = js.get_mesh(body=body, joint_index=0)\n",
    "p = mp.plot(v, f, c=c)\n",
    "# Get the B-Rep edges and draw them\n",
    "brep_edges = js.get_edge_indices(body=body)\n",
    "p.add_edges(v, brep_edges);\n",
    "# Draw the edge entities\n",
    "if e is not None:\n",
    "    # Joint Entities\n",
    "    if e[0] is not None:\n",
    "        p.add_edges(v, e[0], shading={\"line_color\": \"red\"})\n",
    "    # Joint Equivalents\n",
    "    if e[1] is not None:\n",
    "        p.add_edges(v, e[1], shading={\"line_color\": \"yellow\"})"
   ]
  },
  {
   "cell_type": "markdown",
   "id": "e896c098",
   "metadata": {},
   "source": [
    "## Visualize the Joint Axis\n",
    "Show the joint axis that the body is constrained to"
   ]
  },
  {
   "cell_type": "code",
   "execution_count": null,
   "id": "2f7bc149",
   "metadata": {},
   "outputs": [],
   "source": [
    "body = 1\n",
    "v, f, c, e = js.get_mesh(body=body, show_joint_equivalent_colors=False)\n",
    "p = mp.plot(v, f, c=c);\n",
    "if e is not None:\n",
    "    # Joint Entities\n",
    "    if e[0] is not None:\n",
    "        p.add_edges(v, e[0], shading={\"line_color\": \"red\"})\n",
    "    # Joint Equivalents\n",
    "    if e[1] is not None:\n",
    "        p.add_edges(v, e[1], shading={\"line_color\": \"yellow\"})\n",
    "\n",
    "# Get the joint axis line and draw it\n",
    "start_pt, end_pt = js.get_joint_axis_line(body=body)\n",
    "p.add_lines(start_pt, end_pt, shading={\"line_color\": \"green\"});\n",
    "p.add_points(start_pt, shading={\"point_color\": \"green\", \"point_size\": 1});\n"
   ]
  },
  {
   "cell_type": "code",
   "execution_count": null,
   "id": "5fe5567c",
   "metadata": {},
   "outputs": [],
   "source": [
    "body = 2\n",
    "v, f, c, e = js.get_mesh(body=body, show_joint_equivalent_colors=False)\n",
    "p = mp.plot(v, f, c=c);\n",
    "if e is not None:\n",
    "    # Joint Entities\n",
    "    if e[0] is not None:\n",
    "        p.add_edges(v, e[0], shading={\"line_color\": \"red\"})\n",
    "    # Joint Equivalents\n",
    "    if e[1] is not None:\n",
    "        p.add_edges(v, e[1], shading={\"line_color\": \"yellow\"})\n",
    "\n",
    "# Get the joint axis line and draw it\n",
    "start_pt, end_pt = js.get_joint_axis_line(body=body)\n",
    "p.add_lines(start_pt, end_pt, shading={\"line_color\": \"green\"});\n",
    "p.add_points(start_pt, shading={\"point_color\": \"green\", \"point_size\": 1});"
   ]
  }
 ],
 "metadata": {
  "interpreter": {
   "hash": "bd233d35984c509e34d87a6c4917af9a54942a0c7c6963e05834a165480a06dc"
  },
  "kernelspec": {
   "display_name": "Python 3 (ipykernel)",
   "language": "python",
   "name": "python3"
  },
  "language_info": {
   "codemirror_mode": {
    "name": "ipython",
    "version": 3
   },
   "file_extension": ".py",
   "mimetype": "text/x-python",
   "name": "python",
   "nbconvert_exporter": "python",
   "pygments_lexer": "ipython3",
   "version": "3.12.3"
  }
 },
 "nbformat": 4,
 "nbformat_minor": 5
}
